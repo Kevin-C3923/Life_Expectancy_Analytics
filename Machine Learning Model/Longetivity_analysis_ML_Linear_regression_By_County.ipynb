{
 "cells": [
  {
   "cell_type": "markdown",
   "id": "78400128",
   "metadata": {},
   "source": [
    "# WHICH EXHIBITS THE GREATEST INFLUENCE ON PREMATURE DEATHS?\n",
    "## FOR THE FOLLWING PARAMETERS:\n",
    "* FAIR OR POOR HEALTH\n",
    "* LOW BIRTHWEIGHT\n",
    "* FOOD ENVIROMENT INDEX\n",
    "* DRVING DEATH NUMBERS\n",
    "* UNINSURED NUMBER\n",
    "* MENTAL HEALTH PROVIDER RATIO"
   ]
  },
  {
   "cell_type": "code",
   "execution_count": 3,
   "id": "7f8fcda8",
   "metadata": {},
   "outputs": [],
   "source": [
    "import pandas as pd\n",
    "from pathlib import Path\n",
    "import matplotlib.pyplot as plt\n",
    "from sklearn.linear_model import LinearRegression"
   ]
  },
  {
   "cell_type": "code",
   "execution_count": 4,
   "id": "a1046f26",
   "metadata": {},
   "outputs": [
    {
     "data": {
      "text/html": [
       "<div>\n",
       "<style scoped>\n",
       "    .dataframe tbody tr th:only-of-type {\n",
       "        vertical-align: middle;\n",
       "    }\n",
       "\n",
       "    .dataframe tbody tr th {\n",
       "        vertical-align: top;\n",
       "    }\n",
       "\n",
       "    .dataframe thead th {\n",
       "        text-align: right;\n",
       "    }\n",
       "</style>\n",
       "<table border=\"1\" class=\"dataframe\">\n",
       "  <thead>\n",
       "    <tr style=\"text-align: right;\">\n",
       "      <th></th>\n",
       "      <th>Years</th>\n",
       "      <th>FIPS</th>\n",
       "      <th>County</th>\n",
       "      <th>Deaths</th>\n",
       "      <th>Fair_or_Poor_Health_Percent</th>\n",
       "      <th>Low_birthweight_Percent</th>\n",
       "      <th>Food_Environment_Index</th>\n",
       "      <th>Driving_Deaths_Number</th>\n",
       "      <th>Uninsured_Number</th>\n",
       "      <th>Mental_Health_Provider_Ratio</th>\n",
       "    </tr>\n",
       "  </thead>\n",
       "  <tbody>\n",
       "    <tr>\n",
       "      <th>0</th>\n",
       "      <td>2011</td>\n",
       "      <td>36001</td>\n",
       "      <td>Albany</td>\n",
       "      <td>2948</td>\n",
       "      <td>12</td>\n",
       "      <td>8</td>\n",
       "      <td>0.0</td>\n",
       "      <td>0</td>\n",
       "      <td>0</td>\n",
       "      <td>0.002985</td>\n",
       "    </tr>\n",
       "    <tr>\n",
       "      <th>1</th>\n",
       "      <td>2011</td>\n",
       "      <td>36003</td>\n",
       "      <td>Allegany</td>\n",
       "      <td>565</td>\n",
       "      <td>16</td>\n",
       "      <td>6</td>\n",
       "      <td>0.0</td>\n",
       "      <td>0</td>\n",
       "      <td>0</td>\n",
       "      <td>0.000243</td>\n",
       "    </tr>\n",
       "    <tr>\n",
       "      <th>2</th>\n",
       "      <td>2011</td>\n",
       "      <td>36005</td>\n",
       "      <td>Bronx</td>\n",
       "      <td>14630</td>\n",
       "      <td>26</td>\n",
       "      <td>9</td>\n",
       "      <td>0.0</td>\n",
       "      <td>0</td>\n",
       "      <td>0</td>\n",
       "      <td>0.000957</td>\n",
       "    </tr>\n",
       "    <tr>\n",
       "      <th>3</th>\n",
       "      <td>2011</td>\n",
       "      <td>36007</td>\n",
       "      <td>Broome</td>\n",
       "      <td>2243</td>\n",
       "      <td>13</td>\n",
       "      <td>7</td>\n",
       "      <td>0.0</td>\n",
       "      <td>0</td>\n",
       "      <td>0</td>\n",
       "      <td>0.000262</td>\n",
       "    </tr>\n",
       "    <tr>\n",
       "      <th>4</th>\n",
       "      <td>2011</td>\n",
       "      <td>36009</td>\n",
       "      <td>Cattaraugus</td>\n",
       "      <td>1007</td>\n",
       "      <td>20</td>\n",
       "      <td>6</td>\n",
       "      <td>0.0</td>\n",
       "      <td>0</td>\n",
       "      <td>0</td>\n",
       "      <td>0.000075</td>\n",
       "    </tr>\n",
       "    <tr>\n",
       "      <th>...</th>\n",
       "      <td>...</td>\n",
       "      <td>...</td>\n",
       "      <td>...</td>\n",
       "      <td>...</td>\n",
       "      <td>...</td>\n",
       "      <td>...</td>\n",
       "      <td>...</td>\n",
       "      <td>...</td>\n",
       "      <td>...</td>\n",
       "      <td>...</td>\n",
       "    </tr>\n",
       "    <tr>\n",
       "      <th>56</th>\n",
       "      <td>2011</td>\n",
       "      <td>36117</td>\n",
       "      <td>Wayne</td>\n",
       "      <td>991</td>\n",
       "      <td>14</td>\n",
       "      <td>6</td>\n",
       "      <td>0.0</td>\n",
       "      <td>0</td>\n",
       "      <td>0</td>\n",
       "      <td>0.000055</td>\n",
       "    </tr>\n",
       "    <tr>\n",
       "      <th>57</th>\n",
       "      <td>2011</td>\n",
       "      <td>36119</td>\n",
       "      <td>Westchester</td>\n",
       "      <td>7144</td>\n",
       "      <td>12</td>\n",
       "      <td>7</td>\n",
       "      <td>0.0</td>\n",
       "      <td>0</td>\n",
       "      <td>0</td>\n",
       "      <td>0.003759</td>\n",
       "    </tr>\n",
       "    <tr>\n",
       "      <th>58</th>\n",
       "      <td>2011</td>\n",
       "      <td>36121</td>\n",
       "      <td>Wyoming</td>\n",
       "      <td>405</td>\n",
       "      <td>13</td>\n",
       "      <td>5</td>\n",
       "      <td>0.0</td>\n",
       "      <td>0</td>\n",
       "      <td>0</td>\n",
       "      <td>0.001325</td>\n",
       "    </tr>\n",
       "    <tr>\n",
       "      <th>59</th>\n",
       "      <td>2012</td>\n",
       "      <td>36001</td>\n",
       "      <td>Albany</td>\n",
       "      <td>2859</td>\n",
       "      <td>12</td>\n",
       "      <td>8</td>\n",
       "      <td>0.0</td>\n",
       "      <td>143</td>\n",
       "      <td>23381</td>\n",
       "      <td>0.002985</td>\n",
       "    </tr>\n",
       "    <tr>\n",
       "      <th>60</th>\n",
       "      <td>2012</td>\n",
       "      <td>36003</td>\n",
       "      <td>Allegany</td>\n",
       "      <td>557</td>\n",
       "      <td>16</td>\n",
       "      <td>6</td>\n",
       "      <td>0.0</td>\n",
       "      <td>68</td>\n",
       "      <td>4665</td>\n",
       "      <td>0.000243</td>\n",
       "    </tr>\n",
       "  </tbody>\n",
       "</table>\n",
       "<p>61 rows × 10 columns</p>\n",
       "</div>"
      ],
      "text/plain": [
       "    Years   FIPS       County  Deaths  Fair_or_Poor_Health_Percent  \\\n",
       "0    2011  36001       Albany    2948                           12   \n",
       "1    2011  36003     Allegany     565                           16   \n",
       "2    2011  36005        Bronx   14630                           26   \n",
       "3    2011  36007       Broome    2243                           13   \n",
       "4    2011  36009  Cattaraugus    1007                           20   \n",
       "..    ...    ...          ...     ...                          ...   \n",
       "56   2011  36117        Wayne     991                           14   \n",
       "57   2011  36119  Westchester    7144                           12   \n",
       "58   2011  36121      Wyoming     405                           13   \n",
       "59   2012  36001       Albany    2859                           12   \n",
       "60   2012  36003     Allegany     557                           16   \n",
       "\n",
       "    Low_birthweight_Percent  Food_Environment_Index  Driving_Deaths_Number  \\\n",
       "0                         8                     0.0                      0   \n",
       "1                         6                     0.0                      0   \n",
       "2                         9                     0.0                      0   \n",
       "3                         7                     0.0                      0   \n",
       "4                         6                     0.0                      0   \n",
       "..                      ...                     ...                    ...   \n",
       "56                        6                     0.0                      0   \n",
       "57                        7                     0.0                      0   \n",
       "58                        5                     0.0                      0   \n",
       "59                        8                     0.0                    143   \n",
       "60                        6                     0.0                     68   \n",
       "\n",
       "    Uninsured_Number  Mental_Health_Provider_Ratio  \n",
       "0                  0                      0.002985  \n",
       "1                  0                      0.000243  \n",
       "2                  0                      0.000957  \n",
       "3                  0                      0.000262  \n",
       "4                  0                      0.000075  \n",
       "..               ...                           ...  \n",
       "56                 0                      0.000055  \n",
       "57                 0                      0.003759  \n",
       "58                 0                      0.001325  \n",
       "59             23381                      0.002985  \n",
       "60              4665                      0.000243  \n",
       "\n",
       "[61 rows x 10 columns]"
      ]
     },
     "execution_count": 4,
     "metadata": {},
     "output_type": "execute_result"
    }
   ],
   "source": [
    "df = pd.read_csv(Path('complete_dataset.csv'))\n",
    "df.head(61)"
   ]
  },
  {
   "cell_type": "code",
   "execution_count": null,
   "id": "3d7fbb78",
   "metadata": {},
   "outputs": [],
   "source": [
    "# new df group by county first -COMPLETED\n",
    "# get the average of the columns- COMPLETED\n",
    "# drop rows with Zero or dont include zero in avg(interpelate those values)\n",
    "# instead of whole number of death replace with a death/total population of the county\n",
    "# get columns on the same scale - module 17 or 19 sklearn preprocessing"
   ]
  },
  {
   "cell_type": "code",
   "execution_count": 19,
   "id": "93c25339",
   "metadata": {},
   "outputs": [
    {
     "data": {
      "text/html": [
       "<div>\n",
       "<style scoped>\n",
       "    .dataframe tbody tr th:only-of-type {\n",
       "        vertical-align: middle;\n",
       "    }\n",
       "\n",
       "    .dataframe tbody tr th {\n",
       "        vertical-align: top;\n",
       "    }\n",
       "\n",
       "    .dataframe thead th {\n",
       "        text-align: right;\n",
       "    }\n",
       "</style>\n",
       "<table border=\"1\" class=\"dataframe\">\n",
       "  <thead>\n",
       "    <tr style=\"text-align: right;\">\n",
       "      <th></th>\n",
       "      <th>Years</th>\n",
       "      <th>FIPS</th>\n",
       "      <th>Deaths</th>\n",
       "      <th>Fair_or_Poor_Health_Percent</th>\n",
       "      <th>Low_birthweight_Percent</th>\n",
       "      <th>Food_Environment_Index</th>\n",
       "      <th>Driving_Deaths_Number</th>\n",
       "      <th>Uninsured_Number</th>\n",
       "      <th>Mental_Health_Provider_Ratio</th>\n",
       "    </tr>\n",
       "    <tr>\n",
       "      <th>County</th>\n",
       "      <th></th>\n",
       "      <th></th>\n",
       "      <th></th>\n",
       "      <th></th>\n",
       "      <th></th>\n",
       "      <th></th>\n",
       "      <th></th>\n",
       "      <th></th>\n",
       "      <th></th>\n",
       "    </tr>\n",
       "  </thead>\n",
       "  <tbody>\n",
       "    <tr>\n",
       "      <th>Albany</th>\n",
       "      <td>2016.5</td>\n",
       "      <td>36001.0</td>\n",
       "      <td>3081.000000</td>\n",
       "      <td>12.916667</td>\n",
       "      <td>8.166667</td>\n",
       "      <td>6.008333</td>\n",
       "      <td>95.666667</td>\n",
       "      <td>15828.916667</td>\n",
       "      <td>0.002971</td>\n",
       "    </tr>\n",
       "    <tr>\n",
       "      <th>Allegany</th>\n",
       "      <td>2016.5</td>\n",
       "      <td>36003.0</td>\n",
       "      <td>561.416667</td>\n",
       "      <td>15.500000</td>\n",
       "      <td>6.833333</td>\n",
       "      <td>6.150000</td>\n",
       "      <td>24.583333</td>\n",
       "      <td>2833.666667</td>\n",
       "      <td>0.001483</td>\n",
       "    </tr>\n",
       "    <tr>\n",
       "      <th>Bronx</th>\n",
       "      <td>2016.5</td>\n",
       "      <td>36005.0</td>\n",
       "      <td>14881.000000</td>\n",
       "      <td>26.666667</td>\n",
       "      <td>9.416667</td>\n",
       "      <td>5.491667</td>\n",
       "      <td>242.583333</td>\n",
       "      <td>144791.500000</td>\n",
       "      <td>0.001508</td>\n",
       "    </tr>\n",
       "    <tr>\n",
       "      <th>Broome</th>\n",
       "      <td>2016.5</td>\n",
       "      <td>36007.0</td>\n",
       "      <td>2321.583333</td>\n",
       "      <td>15.083333</td>\n",
       "      <td>7.750000</td>\n",
       "      <td>5.916667</td>\n",
       "      <td>68.250000</td>\n",
       "      <td>11652.000000</td>\n",
       "      <td>0.001537</td>\n",
       "    </tr>\n",
       "    <tr>\n",
       "      <th>Cattaraugus</th>\n",
       "      <td>2016.5</td>\n",
       "      <td>36009.0</td>\n",
       "      <td>1064.083333</td>\n",
       "      <td>18.250000</td>\n",
       "      <td>7.333333</td>\n",
       "      <td>6.133333</td>\n",
       "      <td>44.916667</td>\n",
       "      <td>5763.833333</td>\n",
       "      <td>0.000867</td>\n",
       "    </tr>\n",
       "    <tr>\n",
       "      <th>...</th>\n",
       "      <td>...</td>\n",
       "      <td>...</td>\n",
       "      <td>...</td>\n",
       "      <td>...</td>\n",
       "      <td>...</td>\n",
       "      <td>...</td>\n",
       "      <td>...</td>\n",
       "      <td>...</td>\n",
       "      <td>...</td>\n",
       "    </tr>\n",
       "    <tr>\n",
       "      <th>Washington</th>\n",
       "      <td>2016.5</td>\n",
       "      <td>36115.0</td>\n",
       "      <td>751.916667</td>\n",
       "      <td>15.750000</td>\n",
       "      <td>7.250000</td>\n",
       "      <td>6.308333</td>\n",
       "      <td>42.583333</td>\n",
       "      <td>4004.666667</td>\n",
       "      <td>0.002083</td>\n",
       "    </tr>\n",
       "    <tr>\n",
       "      <th>Wayne</th>\n",
       "      <td>2016.5</td>\n",
       "      <td>36117.0</td>\n",
       "      <td>1092.333333</td>\n",
       "      <td>16.250000</td>\n",
       "      <td>6.583333</td>\n",
       "      <td>6.416667</td>\n",
       "      <td>54.250000</td>\n",
       "      <td>5611.833333</td>\n",
       "      <td>0.000679</td>\n",
       "    </tr>\n",
       "    <tr>\n",
       "      <th>Westchester</th>\n",
       "      <td>2016.5</td>\n",
       "      <td>36119.0</td>\n",
       "      <td>7188.166667</td>\n",
       "      <td>13.166667</td>\n",
       "      <td>7.916667</td>\n",
       "      <td>6.808333</td>\n",
       "      <td>203.250000</td>\n",
       "      <td>70127.166667</td>\n",
       "      <td>0.003411</td>\n",
       "    </tr>\n",
       "    <tr>\n",
       "      <th>Wyoming</th>\n",
       "      <td>2016.5</td>\n",
       "      <td>36121.0</td>\n",
       "      <td>457.666667</td>\n",
       "      <td>14.750000</td>\n",
       "      <td>5.750000</td>\n",
       "      <td>6.233333</td>\n",
       "      <td>23.666667</td>\n",
       "      <td>2384.833333</td>\n",
       "      <td>0.001542</td>\n",
       "    </tr>\n",
       "    <tr>\n",
       "      <th>Yates</th>\n",
       "      <td>2019.0</td>\n",
       "      <td>36123.0</td>\n",
       "      <td>297.857143</td>\n",
       "      <td>14.428571</td>\n",
       "      <td>4.714286</td>\n",
       "      <td>8.757143</td>\n",
       "      <td>14.857143</td>\n",
       "      <td>1929.714286</td>\n",
       "      <td>0.001054</td>\n",
       "    </tr>\n",
       "  </tbody>\n",
       "</table>\n",
       "<p>62 rows × 9 columns</p>\n",
       "</div>"
      ],
      "text/plain": [
       "              Years     FIPS        Deaths  Fair_or_Poor_Health_Percent  \\\n",
       "County                                                                    \n",
       "Albany       2016.5  36001.0   3081.000000                    12.916667   \n",
       "Allegany     2016.5  36003.0    561.416667                    15.500000   \n",
       "Bronx        2016.5  36005.0  14881.000000                    26.666667   \n",
       "Broome       2016.5  36007.0   2321.583333                    15.083333   \n",
       "Cattaraugus  2016.5  36009.0   1064.083333                    18.250000   \n",
       "...             ...      ...           ...                          ...   \n",
       "Washington   2016.5  36115.0    751.916667                    15.750000   \n",
       "Wayne        2016.5  36117.0   1092.333333                    16.250000   \n",
       "Westchester  2016.5  36119.0   7188.166667                    13.166667   \n",
       "Wyoming      2016.5  36121.0    457.666667                    14.750000   \n",
       "Yates        2019.0  36123.0    297.857143                    14.428571   \n",
       "\n",
       "             Low_birthweight_Percent  Food_Environment_Index  \\\n",
       "County                                                         \n",
       "Albany                      8.166667                6.008333   \n",
       "Allegany                    6.833333                6.150000   \n",
       "Bronx                       9.416667                5.491667   \n",
       "Broome                      7.750000                5.916667   \n",
       "Cattaraugus                 7.333333                6.133333   \n",
       "...                              ...                     ...   \n",
       "Washington                  7.250000                6.308333   \n",
       "Wayne                       6.583333                6.416667   \n",
       "Westchester                 7.916667                6.808333   \n",
       "Wyoming                     5.750000                6.233333   \n",
       "Yates                       4.714286                8.757143   \n",
       "\n",
       "             Driving_Deaths_Number  Uninsured_Number  \\\n",
       "County                                                 \n",
       "Albany                   95.666667      15828.916667   \n",
       "Allegany                 24.583333       2833.666667   \n",
       "Bronx                   242.583333     144791.500000   \n",
       "Broome                   68.250000      11652.000000   \n",
       "Cattaraugus              44.916667       5763.833333   \n",
       "...                            ...               ...   \n",
       "Washington               42.583333       4004.666667   \n",
       "Wayne                    54.250000       5611.833333   \n",
       "Westchester             203.250000      70127.166667   \n",
       "Wyoming                  23.666667       2384.833333   \n",
       "Yates                    14.857143       1929.714286   \n",
       "\n",
       "             Mental_Health_Provider_Ratio  \n",
       "County                                     \n",
       "Albany                           0.002971  \n",
       "Allegany                         0.001483  \n",
       "Bronx                            0.001508  \n",
       "Broome                           0.001537  \n",
       "Cattaraugus                      0.000867  \n",
       "...                                   ...  \n",
       "Washington                       0.002083  \n",
       "Wayne                            0.000679  \n",
       "Westchester                      0.003411  \n",
       "Wyoming                          0.001542  \n",
       "Yates                            0.001054  \n",
       "\n",
       "[62 rows x 9 columns]"
      ]
     },
     "execution_count": 19,
     "metadata": {},
     "output_type": "execute_result"
    }
   ],
   "source": [
    "df.groupby(['County']).mean()\n",
    "# update to not include features with Zero"
   ]
  },
  {
   "cell_type": "code",
   "execution_count": null,
   "id": "488cc632",
   "metadata": {},
   "outputs": [],
   "source": []
  },
  {
   "cell_type": "code",
   "execution_count": null,
   "id": "3c40dc30",
   "metadata": {},
   "outputs": [],
   "source": [
    "#CREATE A FOR LOOP FOR EACH COUNTY"
   ]
  },
  {
   "cell_type": "code",
   "execution_count": null,
   "id": "695bfe75",
   "metadata": {},
   "outputs": [],
   "source": [
    "#RUN MODEL ON EACH COLUMN- DEATHS; FAIR OR POOR HEALTH; ETC"
   ]
  },
  {
   "cell_type": "code",
   "execution_count": null,
   "id": "d40f3010",
   "metadata": {},
   "outputs": [],
   "source": [
    "#GET SLOPE FOR EACH COUNTY"
   ]
  },
  {
   "cell_type": "code",
   "execution_count": 6,
   "id": "723e26bc",
   "metadata": {
    "scrolled": false
   },
   "outputs": [
    {
     "data": {
      "image/png": "[encoded data removed]",
      "text/plain": [
       "<Figure size 432x288 with 1 Axes>"
      ]
     },
     "metadata": {
      "needs_background": "light"
     },
     "output_type": "display_data"
    }
   ],
   "source": [
    "plt.scatter(df_bronx.Years, df_bronx.Deaths)\n",
    "plt.xlabel('Years')\n",
    "plt.ylabel('Premature Deaths')\n",
    "plt.show()"
   ]
  },
  {
   "cell_type": "code",
   "execution_count": 7,
   "id": "3d88bc51",
   "metadata": {},
   "outputs": [],
   "source": [
    "X = df_bronx.Years.values.reshape(-1, 1)"
   ]
  },
  {
   "cell_type": "code",
   "execution_count": 8,
   "id": "09c81b6d",
   "metadata": {},
   "outputs": [
    {
     "data": {
      "text/plain": [
       "array([[2011],\n",
       "       [2012],\n",
       "       [2013],\n",
       "       [2014],\n",
       "       [2015]])"
      ]
     },
     "execution_count": 8,
     "metadata": {},
     "output_type": "execute_result"
    }
   ],
   "source": [
    "X[:5]"
   ]
  },
  {
   "cell_type": "code",
   "execution_count": 9,
   "id": "6d7c0ce9",
   "metadata": {},
   "outputs": [
    {
     "data": {
      "text/plain": [
       "(12, 1)"
      ]
     },
     "execution_count": 9,
     "metadata": {},
     "output_type": "execute_result"
    }
   ],
   "source": [
    "X.shape"
   ]
  },
  {
   "cell_type": "code",
   "execution_count": 10,
   "id": "b76f5a00",
   "metadata": {},
   "outputs": [],
   "source": [
    "y = df_bronx.Deaths"
   ]
  },
  {
   "cell_type": "code",
   "execution_count": 11,
   "id": "ec015454",
   "metadata": {},
   "outputs": [],
   "source": [
    "model = LinearRegression()"
   ]
  },
  {
   "cell_type": "code",
   "execution_count": 12,
   "id": "5917152c",
   "metadata": {},
   "outputs": [
    {
     "data": {
      "text/plain": [
       "LinearRegression()"
      ]
     },
     "execution_count": 12,
     "metadata": {},
     "output_type": "execute_result"
    }
   ],
   "source": [
    "model.fit(X, y)"
   ]
  },
  {
   "cell_type": "code",
   "execution_count": 13,
   "id": "ae9b4938",
   "metadata": {},
   "outputs": [
    {
     "name": "stdout",
     "output_type": "stream",
     "text": [
      "(12,)\n"
     ]
    }
   ],
   "source": [
    "y_pred = model.predict(X)\n",
    "print(y_pred.shape)"
   ]
  },
  {
   "cell_type": "code",
   "execution_count": 14,
   "id": "20eee4c9",
   "metadata": {},
   "outputs": [
    {
     "data": {
      "image/png": "[encoded data removed]",
      "text/plain": [
       "<Figure size 432x288 with 1 Axes>"
      ]
     },
     "metadata": {
      "needs_background": "light"
     },
     "output_type": "display_data"
    }
   ],
   "source": [
    "plt.scatter(X, y)\n",
    "plt.plot(X, y_pred, color='red')\n",
    "plt.show()"
   ]
  },
  {
   "cell_type": "code",
   "execution_count": 15,
   "id": "3a08392b",
   "metadata": {},
   "outputs": [
    {
     "name": "stdout",
     "output_type": "stream",
     "text": [
      "[204.8041958]\n",
      "-398106.6608391608\n"
     ]
    }
   ],
   "source": [
    "print(model.coef_)\n",
    "print(model.intercept_)"
   ]
  },
  {
   "cell_type": "code",
   "execution_count": null,
   "id": "67f43fc2",
   "metadata": {},
   "outputs": [],
   "source": []
  }
 ],
 "metadata": {
  "kernelspec": {
   "display_name": "mlenv",
   "language": "python",
   "name": "mlenv"
  },
  "language_info": {
   "codemirror_mode": {
    "name": "ipython",
    "version": 3
   },
   "file_extension": ".py",
   "mimetype": "text/x-python",
   "name": "python",
   "nbconvert_exporter": "python",
   "pygments_lexer": "ipython3",
   "version": "3.7.11"
  }
 },
 "nbformat": 4,
 "nbformat_minor": 5
}
