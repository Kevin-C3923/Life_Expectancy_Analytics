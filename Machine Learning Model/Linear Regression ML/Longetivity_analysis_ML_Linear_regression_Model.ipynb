{
 "cells": [
  {
   "cell_type": "markdown",
   "id": "e4520821",
   "metadata": {},
   "source": [
    "# WHICH EXHIBITS THE GREATEST INFLUENCE ON PREMATURE DEATHS?\n",
    "## FOR THE FOLLWING PARAMETERS:\n",
    "* FAIR OR POOR HEALTH\n",
    "* LOW BIRTHWEIGHT\n",
    "* FOOD ENVIROMENT INDEX\n",
    "* DRVING DEATH NUMBERS\n",
    "* UNINSURED NUMBER\n",
    "* MENTAL HEALTH PROVIDER RATIO"
   ]
  },
  {
   "cell_type": "code",
   "execution_count": 1,
   "id": "7305d33e",
   "metadata": {},
   "outputs": [],
   "source": [
    "import pandas as pd\n",
    "from pathlib import Path\n",
    "import matplotlib.pyplot as plt\n",
    "from sklearn.linear_model import LinearRegression"
   ]
  },
  {
   "cell_type": "code",
   "execution_count": 17,
   "id": "80a8f596",
   "metadata": {},
   "outputs": [
    {
     "data": {
      "text/html": [
       "<div>\n",
       "<style scoped>\n",
       "    .dataframe tbody tr th:only-of-type {\n",
       "        vertical-align: middle;\n",
       "    }\n",
       "\n",
       "    .dataframe tbody tr th {\n",
       "        vertical-align: top;\n",
       "    }\n",
       "\n",
       "    .dataframe thead th {\n",
       "        text-align: right;\n",
       "    }\n",
       "</style>\n",
       "<table border=\"1\" class=\"dataframe\">\n",
       "  <thead>\n",
       "    <tr style=\"text-align: right;\">\n",
       "      <th></th>\n",
       "      <th>Years</th>\n",
       "      <th>FIPS</th>\n",
       "      <th>County</th>\n",
       "      <th>Deaths</th>\n",
       "      <th>Fair_or_Poor_Health_Percent</th>\n",
       "      <th>Low_birthweight_Percent</th>\n",
       "      <th>Food_Environment_Index</th>\n",
       "      <th>Driving_Deaths_Number</th>\n",
       "      <th>Uninsured_Number</th>\n",
       "      <th>Mental_Health_Provider_Ratio</th>\n",
       "    </tr>\n",
       "  </thead>\n",
       "  <tbody>\n",
       "    <tr>\n",
       "      <th>0</th>\n",
       "      <td>2011</td>\n",
       "      <td>36001</td>\n",
       "      <td>Albany</td>\n",
       "      <td>2948</td>\n",
       "      <td>12</td>\n",
       "      <td>8</td>\n",
       "      <td>0.0</td>\n",
       "      <td>0</td>\n",
       "      <td>0</td>\n",
       "      <td>0.002985</td>\n",
       "    </tr>\n",
       "    <tr>\n",
       "      <th>1</th>\n",
       "      <td>2011</td>\n",
       "      <td>36003</td>\n",
       "      <td>Allegany</td>\n",
       "      <td>565</td>\n",
       "      <td>16</td>\n",
       "      <td>6</td>\n",
       "      <td>0.0</td>\n",
       "      <td>0</td>\n",
       "      <td>0</td>\n",
       "      <td>0.000243</td>\n",
       "    </tr>\n",
       "    <tr>\n",
       "      <th>2</th>\n",
       "      <td>2011</td>\n",
       "      <td>36005</td>\n",
       "      <td>Bronx</td>\n",
       "      <td>14630</td>\n",
       "      <td>26</td>\n",
       "      <td>9</td>\n",
       "      <td>0.0</td>\n",
       "      <td>0</td>\n",
       "      <td>0</td>\n",
       "      <td>0.000957</td>\n",
       "    </tr>\n",
       "    <tr>\n",
       "      <th>3</th>\n",
       "      <td>2011</td>\n",
       "      <td>36007</td>\n",
       "      <td>Broome</td>\n",
       "      <td>2243</td>\n",
       "      <td>13</td>\n",
       "      <td>7</td>\n",
       "      <td>0.0</td>\n",
       "      <td>0</td>\n",
       "      <td>0</td>\n",
       "      <td>0.000262</td>\n",
       "    </tr>\n",
       "    <tr>\n",
       "      <th>4</th>\n",
       "      <td>2011</td>\n",
       "      <td>36009</td>\n",
       "      <td>Cattaraugus</td>\n",
       "      <td>1007</td>\n",
       "      <td>20</td>\n",
       "      <td>6</td>\n",
       "      <td>0.0</td>\n",
       "      <td>0</td>\n",
       "      <td>0</td>\n",
       "      <td>0.000075</td>\n",
       "    </tr>\n",
       "    <tr>\n",
       "      <th>...</th>\n",
       "      <td>...</td>\n",
       "      <td>...</td>\n",
       "      <td>...</td>\n",
       "      <td>...</td>\n",
       "      <td>...</td>\n",
       "      <td>...</td>\n",
       "      <td>...</td>\n",
       "      <td>...</td>\n",
       "      <td>...</td>\n",
       "      <td>...</td>\n",
       "    </tr>\n",
       "    <tr>\n",
       "      <th>56</th>\n",
       "      <td>2011</td>\n",
       "      <td>36117</td>\n",
       "      <td>Wayne</td>\n",
       "      <td>991</td>\n",
       "      <td>14</td>\n",
       "      <td>6</td>\n",
       "      <td>0.0</td>\n",
       "      <td>0</td>\n",
       "      <td>0</td>\n",
       "      <td>0.000055</td>\n",
       "    </tr>\n",
       "    <tr>\n",
       "      <th>57</th>\n",
       "      <td>2011</td>\n",
       "      <td>36119</td>\n",
       "      <td>Westchester</td>\n",
       "      <td>7144</td>\n",
       "      <td>12</td>\n",
       "      <td>7</td>\n",
       "      <td>0.0</td>\n",
       "      <td>0</td>\n",
       "      <td>0</td>\n",
       "      <td>0.003759</td>\n",
       "    </tr>\n",
       "    <tr>\n",
       "      <th>58</th>\n",
       "      <td>2011</td>\n",
       "      <td>36121</td>\n",
       "      <td>Wyoming</td>\n",
       "      <td>405</td>\n",
       "      <td>13</td>\n",
       "      <td>5</td>\n",
       "      <td>0.0</td>\n",
       "      <td>0</td>\n",
       "      <td>0</td>\n",
       "      <td>0.001325</td>\n",
       "    </tr>\n",
       "    <tr>\n",
       "      <th>59</th>\n",
       "      <td>2012</td>\n",
       "      <td>36001</td>\n",
       "      <td>Albany</td>\n",
       "      <td>2859</td>\n",
       "      <td>12</td>\n",
       "      <td>8</td>\n",
       "      <td>0.0</td>\n",
       "      <td>143</td>\n",
       "      <td>23381</td>\n",
       "      <td>0.002985</td>\n",
       "    </tr>\n",
       "    <tr>\n",
       "      <th>60</th>\n",
       "      <td>2012</td>\n",
       "      <td>36003</td>\n",
       "      <td>Allegany</td>\n",
       "      <td>557</td>\n",
       "      <td>16</td>\n",
       "      <td>6</td>\n",
       "      <td>0.0</td>\n",
       "      <td>68</td>\n",
       "      <td>4665</td>\n",
       "      <td>0.000243</td>\n",
       "    </tr>\n",
       "  </tbody>\n",
       "</table>\n",
       "<p>61 rows × 10 columns</p>\n",
       "</div>"
      ],
      "text/plain": [
       "    Years   FIPS       County  Deaths  Fair_or_Poor_Health_Percent  \\\n",
       "0    2011  36001       Albany    2948                           12   \n",
       "1    2011  36003     Allegany     565                           16   \n",
       "2    2011  36005        Bronx   14630                           26   \n",
       "3    2011  36007       Broome    2243                           13   \n",
       "4    2011  36009  Cattaraugus    1007                           20   \n",
       "..    ...    ...          ...     ...                          ...   \n",
       "56   2011  36117        Wayne     991                           14   \n",
       "57   2011  36119  Westchester    7144                           12   \n",
       "58   2011  36121      Wyoming     405                           13   \n",
       "59   2012  36001       Albany    2859                           12   \n",
       "60   2012  36003     Allegany     557                           16   \n",
       "\n",
       "    Low_birthweight_Percent  Food_Environment_Index  Driving_Deaths_Number  \\\n",
       "0                         8                     0.0                      0   \n",
       "1                         6                     0.0                      0   \n",
       "2                         9                     0.0                      0   \n",
       "3                         7                     0.0                      0   \n",
       "4                         6                     0.0                      0   \n",
       "..                      ...                     ...                    ...   \n",
       "56                        6                     0.0                      0   \n",
       "57                        7                     0.0                      0   \n",
       "58                        5                     0.0                      0   \n",
       "59                        8                     0.0                    143   \n",
       "60                        6                     0.0                     68   \n",
       "\n",
       "    Uninsured_Number  Mental_Health_Provider_Ratio  \n",
       "0                  0                      0.002985  \n",
       "1                  0                      0.000243  \n",
       "2                  0                      0.000957  \n",
       "3                  0                      0.000262  \n",
       "4                  0                      0.000075  \n",
       "..               ...                           ...  \n",
       "56                 0                      0.000055  \n",
       "57                 0                      0.003759  \n",
       "58                 0                      0.001325  \n",
       "59             23381                      0.002985  \n",
       "60              4665                      0.000243  \n",
       "\n",
       "[61 rows x 10 columns]"
      ]
     },
     "execution_count": 17,
     "metadata": {},
     "output_type": "execute_result"
    }
   ],
   "source": [
    "df = pd.read_csv(Path('complete_dataset.csv'))\n",
    "df.head(61)"
   ]
  },
  {
   "cell_type": "code",
   "execution_count": 18,
   "id": "38385c80",
   "metadata": {},
   "outputs": [
    {
     "data": {
      "text/html": [
       "<div>\n",
       "<style scoped>\n",
       "    .dataframe tbody tr th:only-of-type {\n",
       "        vertical-align: middle;\n",
       "    }\n",
       "\n",
       "    .dataframe tbody tr th {\n",
       "        vertical-align: top;\n",
       "    }\n",
       "\n",
       "    .dataframe thead th {\n",
       "        text-align: right;\n",
       "    }\n",
       "</style>\n",
       "<table border=\"1\" class=\"dataframe\">\n",
       "  <thead>\n",
       "    <tr style=\"text-align: right;\">\n",
       "      <th></th>\n",
       "      <th>Years</th>\n",
       "      <th>FIPS</th>\n",
       "      <th>County</th>\n",
       "      <th>Deaths</th>\n",
       "      <th>Fair_or_Poor_Health_Percent</th>\n",
       "      <th>Low_birthweight_Percent</th>\n",
       "      <th>Food_Environment_Index</th>\n",
       "      <th>Driving_Deaths_Number</th>\n",
       "      <th>Uninsured_Number</th>\n",
       "      <th>Mental_Health_Provider_Ratio</th>\n",
       "    </tr>\n",
       "  </thead>\n",
       "  <tbody>\n",
       "    <tr>\n",
       "      <th>0</th>\n",
       "      <td>2011</td>\n",
       "      <td>36001</td>\n",
       "      <td>Albany</td>\n",
       "      <td>2948</td>\n",
       "      <td>12</td>\n",
       "      <td>8</td>\n",
       "      <td>0.0</td>\n",
       "      <td>0</td>\n",
       "      <td>0</td>\n",
       "      <td>0.002985</td>\n",
       "    </tr>\n",
       "    <tr>\n",
       "      <th>59</th>\n",
       "      <td>2012</td>\n",
       "      <td>36001</td>\n",
       "      <td>Albany</td>\n",
       "      <td>2859</td>\n",
       "      <td>12</td>\n",
       "      <td>8</td>\n",
       "      <td>0.0</td>\n",
       "      <td>143</td>\n",
       "      <td>23381</td>\n",
       "      <td>0.002985</td>\n",
       "    </tr>\n",
       "    <tr>\n",
       "      <th>118</th>\n",
       "      <td>2013</td>\n",
       "      <td>36001</td>\n",
       "      <td>Albany</td>\n",
       "      <td>2886</td>\n",
       "      <td>13</td>\n",
       "      <td>8</td>\n",
       "      <td>0.0</td>\n",
       "      <td>148</td>\n",
       "      <td>25221</td>\n",
       "      <td>0.000998</td>\n",
       "    </tr>\n",
       "    <tr>\n",
       "      <th>176</th>\n",
       "      <td>2014</td>\n",
       "      <td>36001</td>\n",
       "      <td>Albany</td>\n",
       "      <td>2886</td>\n",
       "      <td>13</td>\n",
       "      <td>8</td>\n",
       "      <td>8.0</td>\n",
       "      <td>92</td>\n",
       "      <td>22962</td>\n",
       "      <td>0.002252</td>\n",
       "    </tr>\n",
       "    <tr>\n",
       "      <th>236</th>\n",
       "      <td>2015</td>\n",
       "      <td>36001</td>\n",
       "      <td>Albany</td>\n",
       "      <td>2947</td>\n",
       "      <td>13</td>\n",
       "      <td>8</td>\n",
       "      <td>7.9</td>\n",
       "      <td>87</td>\n",
       "      <td>23634</td>\n",
       "      <td>0.002710</td>\n",
       "    </tr>\n",
       "  </tbody>\n",
       "</table>\n",
       "</div>"
      ],
      "text/plain": [
       "     Years   FIPS  County  Deaths  Fair_or_Poor_Health_Percent  \\\n",
       "0     2011  36001  Albany    2948                           12   \n",
       "59    2012  36001  Albany    2859                           12   \n",
       "118   2013  36001  Albany    2886                           13   \n",
       "176   2014  36001  Albany    2886                           13   \n",
       "236   2015  36001  Albany    2947                           13   \n",
       "\n",
       "     Low_birthweight_Percent  Food_Environment_Index  Driving_Deaths_Number  \\\n",
       "0                          8                     0.0                      0   \n",
       "59                         8                     0.0                    143   \n",
       "118                        8                     0.0                    148   \n",
       "176                        8                     8.0                     92   \n",
       "236                        8                     7.9                     87   \n",
       "\n",
       "     Uninsured_Number  Mental_Health_Provider_Ratio  \n",
       "0                   0                      0.002985  \n",
       "59              23381                      0.002985  \n",
       "118             25221                      0.000998  \n",
       "176             22962                      0.002252  \n",
       "236             23634                      0.002710  "
      ]
     },
     "execution_count": 18,
     "metadata": {},
     "output_type": "execute_result"
    }
   ],
   "source": [
    "df_albany= df.loc[df['County']==\"Albany\"]\n",
    "df_albany.head()\n",
    "    "
   ]
  },
  {
   "cell_type": "code",
   "execution_count": null,
   "id": "bf339250",
   "metadata": {},
   "outputs": [],
   "source": [
    "#CREATE A FOR LOOP FOR EACH COUNTY"
   ]
  },
  {
   "cell_type": "code",
   "execution_count": null,
   "id": "da234bec",
   "metadata": {},
   "outputs": [],
   "source": [
    "#RUN MODEL ON EACH COLUMN- DEATHS; FAIR OR POOR HEALTH; ETC"
   ]
  },
  {
   "cell_type": "code",
   "execution_count": null,
   "id": "d08363af",
   "metadata": {},
   "outputs": [],
   "source": [
    "#GET SLOPE FOR EACH COUNTY"
   ]
  },
  {
   "cell_type": "code",
   "execution_count": 20,
   "id": "61b7afa6",
   "metadata": {
    "scrolled": false
   },
   "outputs": [
    {
     "data": {
      "image/png": "[encoded data removed]",
      "text/plain": [
       "<Figure size 432x288 with 1 Axes>"
      ]
     },
     "metadata": {
      "needs_background": "light"
     },
     "output_type": "display_data"
    }
   ],
   "source": [
    "plt.scatter(df_albany.Years, df_albany.Deaths)\n",
    "plt.xlabel('Years')\n",
    "plt.ylabel('Premature Deaths')\n",
    "plt.show()"
   ]
  },
  {
   "cell_type": "code",
   "execution_count": 29,
   "id": "2b8a8d79",
   "metadata": {},
   "outputs": [],
   "source": [
    "X = df_albany.Years.values.reshape(-1, 1)"
   ]
  },
  {
   "cell_type": "code",
   "execution_count": 30,
   "id": "6c2562e7",
   "metadata": {},
   "outputs": [
    {
     "data": {
      "text/plain": [
       "array([[2011],\n",
       "       [2012],\n",
       "       [2013],\n",
       "       [2014],\n",
       "       [2015]])"
      ]
     },
     "execution_count": 30,
     "metadata": {},
     "output_type": "execute_result"
    }
   ],
   "source": [
    "X[:5]"
   ]
  },
  {
   "cell_type": "code",
   "execution_count": 31,
   "id": "4f27e05c",
   "metadata": {},
   "outputs": [
    {
     "data": {
      "text/plain": [
       "(12, 1)"
      ]
     },
     "execution_count": 31,
     "metadata": {},
     "output_type": "execute_result"
    }
   ],
   "source": [
    "X.shape"
   ]
  },
  {
   "cell_type": "code",
   "execution_count": 32,
   "id": "9435931d",
   "metadata": {},
   "outputs": [],
   "source": [
    "y = df_albany.Deaths"
   ]
  },
  {
   "cell_type": "code",
   "execution_count": 33,
   "id": "12cca8f1",
   "metadata": {},
   "outputs": [],
   "source": [
    "model = LinearRegression()"
   ]
  },
  {
   "cell_type": "code",
   "execution_count": 34,
   "id": "7d0b9331",
   "metadata": {},
   "outputs": [
    {
     "data": {
      "text/plain": [
       "LinearRegression()"
      ]
     },
     "execution_count": 34,
     "metadata": {},
     "output_type": "execute_result"
    }
   ],
   "source": [
    "model.fit(X, y)"
   ]
  },
  {
   "cell_type": "code",
   "execution_count": 35,
   "id": "93e050b9",
   "metadata": {},
   "outputs": [
    {
     "name": "stdout",
     "output_type": "stream",
     "text": [
      "(12,)\n"
     ]
    }
   ],
   "source": [
    "y_pred = model.predict(X)\n",
    "print(y_pred.shape)"
   ]
  },
  {
   "cell_type": "code",
   "execution_count": 36,
   "id": "c8ca87a4",
   "metadata": {},
   "outputs": [
    {
     "data": {
      "image/png": "[encoded data removed]",
      "text/plain": [
       "<Figure size 432x288 with 1 Axes>"
      ]
     },
     "metadata": {
      "needs_background": "light"
     },
     "output_type": "display_data"
    }
   ],
   "source": [
    "plt.scatter(X, y)\n",
    "plt.plot(X, y_pred, color='red')\n",
    "plt.show()"
   ]
  },
  {
   "cell_type": "code",
   "execution_count": 37,
   "id": "70a7d196",
   "metadata": {},
   "outputs": [
    {
     "name": "stdout",
     "output_type": "stream",
     "text": [
      "[54.79020979]\n",
      "-107403.45804195803\n"
     ]
    }
   ],
   "source": [
    "print(model.coef_)\n",
    "print(model.intercept_)"
   ]
  },
  {
   "cell_type": "code",
   "execution_count": null,
   "id": "8c3c994c",
   "metadata": {},
   "outputs": [],
   "source": []
  }
 ],
 "metadata": {
  "kernelspec": {
   "display_name": "mlenv",
   "language": "python",
   "name": "mlenv"
  },
  "language_info": {
   "codemirror_mode": {
    "name": "ipython",
    "version": 3
   },
   "file_extension": ".py",
   "mimetype": "text/x-python",
   "name": "python",
   "nbconvert_exporter": "python",
   "pygments_lexer": "ipython3",
   "version": "3.7.11"
  }
 },
 "nbformat": 4,
 "nbformat_minor": 5
}
