{
 "cells": [
  {
   "cell_type": "markdown",
   "id": "78400128",
   "metadata": {},
   "source": [
    "# WHICH EXHIBITS THE GREATEST INFLUENCE ON PREMATURE DEATHS?\n",
    "## FOR THE FOLLWING PARAMETERS:\n",
    "* FAIR OR POOR HEALTH\n",
    "* LOW BIRTHWEIGHT\n",
    "* FOOD ENVIROMENT INDEX\n",
    "* DRVING DEATH NUMBERS\n",
    "* UNINSURED NUMBER\n",
    "* MENTAL HEALTH PROVIDER RATIO"
   ]
  },
  {
   "cell_type": "code",
   "execution_count": 1,
   "id": "7f8fcda8",
   "metadata": {},
   "outputs": [],
   "source": [
    "import pandas as pd\n",
    "from pathlib import Path\n",
    "import matplotlib.pyplot as plt\n",
    "from sklearn.linear_model import LinearRegression"
   ]
  },
  {
   "cell_type": "code",
   "execution_count": 2,
   "id": "a1046f26",
   "metadata": {},
   "outputs": [
    {
     "data": {
      "text/html": [
       "<div>\n",
       "<style scoped>\n",
       "    .dataframe tbody tr th:only-of-type {\n",
       "        vertical-align: middle;\n",
       "    }\n",
       "\n",
       "    .dataframe tbody tr th {\n",
       "        vertical-align: top;\n",
       "    }\n",
       "\n",
       "    .dataframe thead th {\n",
       "        text-align: right;\n",
       "    }\n",
       "</style>\n",
       "<table border=\"1\" class=\"dataframe\">\n",
       "  <thead>\n",
       "    <tr style=\"text-align: right;\">\n",
       "      <th></th>\n",
       "      <th>Unnamed: 0</th>\n",
       "      <th>County</th>\n",
       "      <th>Fair_or_Poor_Health_Percent</th>\n",
       "      <th>Low_birthweight_Percent</th>\n",
       "      <th>Food_Environment_Index</th>\n",
       "      <th>Mental_Health_Provider_Ratio</th>\n",
       "      <th>Death_Ratio</th>\n",
       "      <th>Driving_Death_Ratio</th>\n",
       "      <th>Uninsured_Ratio</th>\n",
       "    </tr>\n",
       "  </thead>\n",
       "  <tbody>\n",
       "    <tr>\n",
       "      <th>0</th>\n",
       "      <td>0</td>\n",
       "      <td>Albany</td>\n",
       "      <td>12.916667</td>\n",
       "      <td>8.166667</td>\n",
       "      <td>6.008333</td>\n",
       "      <td>0.002971</td>\n",
       "      <td>0.009786</td>\n",
       "      <td>0.000304</td>\n",
       "      <td>0.050275</td>\n",
       "    </tr>\n",
       "    <tr>\n",
       "      <th>1</th>\n",
       "      <td>1</td>\n",
       "      <td>Allegany</td>\n",
       "      <td>15.500000</td>\n",
       "      <td>6.833333</td>\n",
       "      <td>6.150000</td>\n",
       "      <td>0.001483</td>\n",
       "      <td>0.012085</td>\n",
       "      <td>0.000529</td>\n",
       "      <td>0.060997</td>\n",
       "    </tr>\n",
       "    <tr>\n",
       "      <th>2</th>\n",
       "      <td>2</td>\n",
       "      <td>Bronx</td>\n",
       "      <td>26.666667</td>\n",
       "      <td>9.416667</td>\n",
       "      <td>5.491667</td>\n",
       "      <td>0.001508</td>\n",
       "      <td>0.010105</td>\n",
       "      <td>0.000165</td>\n",
       "      <td>0.098320</td>\n",
       "    </tr>\n",
       "    <tr>\n",
       "      <th>3</th>\n",
       "      <td>3</td>\n",
       "      <td>Broome</td>\n",
       "      <td>15.083333</td>\n",
       "      <td>7.750000</td>\n",
       "      <td>5.916667</td>\n",
       "      <td>0.001537</td>\n",
       "      <td>0.011685</td>\n",
       "      <td>0.000344</td>\n",
       "      <td>0.058646</td>\n",
       "    </tr>\n",
       "    <tr>\n",
       "      <th>4</th>\n",
       "      <td>4</td>\n",
       "      <td>Cattaraugus</td>\n",
       "      <td>18.250000</td>\n",
       "      <td>7.333333</td>\n",
       "      <td>6.133333</td>\n",
       "      <td>0.000867</td>\n",
       "      <td>0.013812</td>\n",
       "      <td>0.000583</td>\n",
       "      <td>0.074814</td>\n",
       "    </tr>\n",
       "    <tr>\n",
       "      <th>...</th>\n",
       "      <td>...</td>\n",
       "      <td>...</td>\n",
       "      <td>...</td>\n",
       "      <td>...</td>\n",
       "      <td>...</td>\n",
       "      <td>...</td>\n",
       "      <td>...</td>\n",
       "      <td>...</td>\n",
       "      <td>...</td>\n",
       "    </tr>\n",
       "    <tr>\n",
       "      <th>56</th>\n",
       "      <td>56</td>\n",
       "      <td>Warren</td>\n",
       "      <td>12.500000</td>\n",
       "      <td>6.750000</td>\n",
       "      <td>6.291667</td>\n",
       "      <td>0.002791</td>\n",
       "      <td>0.011907</td>\n",
       "      <td>0.000469</td>\n",
       "      <td>0.057920</td>\n",
       "    </tr>\n",
       "    <tr>\n",
       "      <th>57</th>\n",
       "      <td>57</td>\n",
       "      <td>Washington</td>\n",
       "      <td>15.750000</td>\n",
       "      <td>7.250000</td>\n",
       "      <td>6.308333</td>\n",
       "      <td>0.002083</td>\n",
       "      <td>0.012266</td>\n",
       "      <td>0.000695</td>\n",
       "      <td>0.065327</td>\n",
       "    </tr>\n",
       "    <tr>\n",
       "      <th>58</th>\n",
       "      <td>58</td>\n",
       "      <td>Wayne</td>\n",
       "      <td>16.250000</td>\n",
       "      <td>6.583333</td>\n",
       "      <td>6.416667</td>\n",
       "      <td>0.000679</td>\n",
       "      <td>0.011966</td>\n",
       "      <td>0.000594</td>\n",
       "      <td>0.061477</td>\n",
       "    </tr>\n",
       "    <tr>\n",
       "      <th>59</th>\n",
       "      <td>59</td>\n",
       "      <td>Westchester</td>\n",
       "      <td>13.166667</td>\n",
       "      <td>7.916667</td>\n",
       "      <td>6.808333</td>\n",
       "      <td>0.003411</td>\n",
       "      <td>0.007156</td>\n",
       "      <td>0.000202</td>\n",
       "      <td>0.069816</td>\n",
       "    </tr>\n",
       "    <tr>\n",
       "      <th>60</th>\n",
       "      <td>60</td>\n",
       "      <td>Wyoming</td>\n",
       "      <td>14.750000</td>\n",
       "      <td>5.750000</td>\n",
       "      <td>6.233333</td>\n",
       "      <td>0.001542</td>\n",
       "      <td>0.011292</td>\n",
       "      <td>0.000584</td>\n",
       "      <td>0.058840</td>\n",
       "    </tr>\n",
       "  </tbody>\n",
       "</table>\n",
       "<p>61 rows × 9 columns</p>\n",
       "</div>"
      ],
      "text/plain": [
       "    Unnamed: 0       County  Fair_or_Poor_Health_Percent  \\\n",
       "0            0       Albany                    12.916667   \n",
       "1            1     Allegany                    15.500000   \n",
       "2            2        Bronx                    26.666667   \n",
       "3            3       Broome                    15.083333   \n",
       "4            4  Cattaraugus                    18.250000   \n",
       "..         ...          ...                          ...   \n",
       "56          56       Warren                    12.500000   \n",
       "57          57   Washington                    15.750000   \n",
       "58          58        Wayne                    16.250000   \n",
       "59          59  Westchester                    13.166667   \n",
       "60          60      Wyoming                    14.750000   \n",
       "\n",
       "    Low_birthweight_Percent  Food_Environment_Index  \\\n",
       "0                  8.166667                6.008333   \n",
       "1                  6.833333                6.150000   \n",
       "2                  9.416667                5.491667   \n",
       "3                  7.750000                5.916667   \n",
       "4                  7.333333                6.133333   \n",
       "..                      ...                     ...   \n",
       "56                 6.750000                6.291667   \n",
       "57                 7.250000                6.308333   \n",
       "58                 6.583333                6.416667   \n",
       "59                 7.916667                6.808333   \n",
       "60                 5.750000                6.233333   \n",
       "\n",
       "    Mental_Health_Provider_Ratio  Death_Ratio  Driving_Death_Ratio  \\\n",
       "0                       0.002971     0.009786             0.000304   \n",
       "1                       0.001483     0.012085             0.000529   \n",
       "2                       0.001508     0.010105             0.000165   \n",
       "3                       0.001537     0.011685             0.000344   \n",
       "4                       0.000867     0.013812             0.000583   \n",
       "..                           ...          ...                  ...   \n",
       "56                      0.002791     0.011907             0.000469   \n",
       "57                      0.002083     0.012266             0.000695   \n",
       "58                      0.000679     0.011966             0.000594   \n",
       "59                      0.003411     0.007156             0.000202   \n",
       "60                      0.001542     0.011292             0.000584   \n",
       "\n",
       "    Uninsured_Ratio  \n",
       "0          0.050275  \n",
       "1          0.060997  \n",
       "2          0.098320  \n",
       "3          0.058646  \n",
       "4          0.074814  \n",
       "..              ...  \n",
       "56         0.057920  \n",
       "57         0.065327  \n",
       "58         0.061477  \n",
       "59         0.069816  \n",
       "60         0.058840  \n",
       "\n",
       "[61 rows x 9 columns]"
      ]
     },
     "execution_count": 2,
     "metadata": {},
     "output_type": "execute_result"
    }
   ],
   "source": [
    "df = pd.read_csv(Path(\"merged_pop_df.csv\"))\n",
    "df.head(61)"
   ]
  },
  {
   "cell_type": "code",
   "execution_count": 3,
   "id": "93c25339",
   "metadata": {},
   "outputs": [
    {
     "data": {
      "text/html": [
       "<div>\n",
       "<style scoped>\n",
       "    .dataframe tbody tr th:only-of-type {\n",
       "        vertical-align: middle;\n",
       "    }\n",
       "\n",
       "    .dataframe tbody tr th {\n",
       "        vertical-align: top;\n",
       "    }\n",
       "\n",
       "    .dataframe thead th {\n",
       "        text-align: right;\n",
       "    }\n",
       "</style>\n",
       "<table border=\"1\" class=\"dataframe\">\n",
       "  <thead>\n",
       "    <tr style=\"text-align: right;\">\n",
       "      <th></th>\n",
       "      <th>Unnamed: 0</th>\n",
       "      <th>Fair_or_Poor_Health_Percent</th>\n",
       "      <th>Low_birthweight_Percent</th>\n",
       "      <th>Food_Environment_Index</th>\n",
       "      <th>Mental_Health_Provider_Ratio</th>\n",
       "      <th>Death_Ratio</th>\n",
       "      <th>Driving_Death_Ratio</th>\n",
       "      <th>Uninsured_Ratio</th>\n",
       "    </tr>\n",
       "    <tr>\n",
       "      <th>County</th>\n",
       "      <th></th>\n",
       "      <th></th>\n",
       "      <th></th>\n",
       "      <th></th>\n",
       "      <th></th>\n",
       "      <th></th>\n",
       "      <th></th>\n",
       "      <th></th>\n",
       "    </tr>\n",
       "  </thead>\n",
       "  <tbody>\n",
       "    <tr>\n",
       "      <th>Albany</th>\n",
       "      <td>0.0</td>\n",
       "      <td>12.916667</td>\n",
       "      <td>8.166667</td>\n",
       "      <td>6.008333</td>\n",
       "      <td>0.002971</td>\n",
       "      <td>0.009786</td>\n",
       "      <td>0.000304</td>\n",
       "      <td>0.050275</td>\n",
       "    </tr>\n",
       "    <tr>\n",
       "      <th>Allegany</th>\n",
       "      <td>1.0</td>\n",
       "      <td>15.500000</td>\n",
       "      <td>6.833333</td>\n",
       "      <td>6.150000</td>\n",
       "      <td>0.001483</td>\n",
       "      <td>0.012085</td>\n",
       "      <td>0.000529</td>\n",
       "      <td>0.060997</td>\n",
       "    </tr>\n",
       "    <tr>\n",
       "      <th>Bronx</th>\n",
       "      <td>2.0</td>\n",
       "      <td>26.666667</td>\n",
       "      <td>9.416667</td>\n",
       "      <td>5.491667</td>\n",
       "      <td>0.001508</td>\n",
       "      <td>0.010105</td>\n",
       "      <td>0.000165</td>\n",
       "      <td>0.098320</td>\n",
       "    </tr>\n",
       "    <tr>\n",
       "      <th>Broome</th>\n",
       "      <td>3.0</td>\n",
       "      <td>15.083333</td>\n",
       "      <td>7.750000</td>\n",
       "      <td>5.916667</td>\n",
       "      <td>0.001537</td>\n",
       "      <td>0.011685</td>\n",
       "      <td>0.000344</td>\n",
       "      <td>0.058646</td>\n",
       "    </tr>\n",
       "    <tr>\n",
       "      <th>Cattaraugus</th>\n",
       "      <td>4.0</td>\n",
       "      <td>18.250000</td>\n",
       "      <td>7.333333</td>\n",
       "      <td>6.133333</td>\n",
       "      <td>0.000867</td>\n",
       "      <td>0.013812</td>\n",
       "      <td>0.000583</td>\n",
       "      <td>0.074814</td>\n",
       "    </tr>\n",
       "    <tr>\n",
       "      <th>...</th>\n",
       "      <td>...</td>\n",
       "      <td>...</td>\n",
       "      <td>...</td>\n",
       "      <td>...</td>\n",
       "      <td>...</td>\n",
       "      <td>...</td>\n",
       "      <td>...</td>\n",
       "      <td>...</td>\n",
       "    </tr>\n",
       "    <tr>\n",
       "      <th>Washington</th>\n",
       "      <td>57.0</td>\n",
       "      <td>15.750000</td>\n",
       "      <td>7.250000</td>\n",
       "      <td>6.308333</td>\n",
       "      <td>0.002083</td>\n",
       "      <td>0.012266</td>\n",
       "      <td>0.000695</td>\n",
       "      <td>0.065327</td>\n",
       "    </tr>\n",
       "    <tr>\n",
       "      <th>Wayne</th>\n",
       "      <td>58.0</td>\n",
       "      <td>16.250000</td>\n",
       "      <td>6.583333</td>\n",
       "      <td>6.416667</td>\n",
       "      <td>0.000679</td>\n",
       "      <td>0.011966</td>\n",
       "      <td>0.000594</td>\n",
       "      <td>0.061477</td>\n",
       "    </tr>\n",
       "    <tr>\n",
       "      <th>Westchester</th>\n",
       "      <td>59.0</td>\n",
       "      <td>13.166667</td>\n",
       "      <td>7.916667</td>\n",
       "      <td>6.808333</td>\n",
       "      <td>0.003411</td>\n",
       "      <td>0.007156</td>\n",
       "      <td>0.000202</td>\n",
       "      <td>0.069816</td>\n",
       "    </tr>\n",
       "    <tr>\n",
       "      <th>Wyoming</th>\n",
       "      <td>60.0</td>\n",
       "      <td>14.750000</td>\n",
       "      <td>5.750000</td>\n",
       "      <td>6.233333</td>\n",
       "      <td>0.001542</td>\n",
       "      <td>0.011292</td>\n",
       "      <td>0.000584</td>\n",
       "      <td>0.058840</td>\n",
       "    </tr>\n",
       "    <tr>\n",
       "      <th>Yates</th>\n",
       "      <td>61.0</td>\n",
       "      <td>14.428571</td>\n",
       "      <td>4.714286</td>\n",
       "      <td>8.757143</td>\n",
       "      <td>0.001054</td>\n",
       "      <td>0.012023</td>\n",
       "      <td>0.000600</td>\n",
       "      <td>0.077893</td>\n",
       "    </tr>\n",
       "  </tbody>\n",
       "</table>\n",
       "<p>62 rows × 8 columns</p>\n",
       "</div>"
      ],
      "text/plain": [
       "             Unnamed: 0  Fair_or_Poor_Health_Percent  Low_birthweight_Percent  \\\n",
       "County                                                                          \n",
       "Albany              0.0                    12.916667                 8.166667   \n",
       "Allegany            1.0                    15.500000                 6.833333   \n",
       "Bronx               2.0                    26.666667                 9.416667   \n",
       "Broome              3.0                    15.083333                 7.750000   \n",
       "Cattaraugus         4.0                    18.250000                 7.333333   \n",
       "...                 ...                          ...                      ...   \n",
       "Washington         57.0                    15.750000                 7.250000   \n",
       "Wayne              58.0                    16.250000                 6.583333   \n",
       "Westchester        59.0                    13.166667                 7.916667   \n",
       "Wyoming            60.0                    14.750000                 5.750000   \n",
       "Yates              61.0                    14.428571                 4.714286   \n",
       "\n",
       "             Food_Environment_Index  Mental_Health_Provider_Ratio  \\\n",
       "County                                                              \n",
       "Albany                     6.008333                      0.002971   \n",
       "Allegany                   6.150000                      0.001483   \n",
       "Bronx                      5.491667                      0.001508   \n",
       "Broome                     5.916667                      0.001537   \n",
       "Cattaraugus                6.133333                      0.000867   \n",
       "...                             ...                           ...   \n",
       "Washington                 6.308333                      0.002083   \n",
       "Wayne                      6.416667                      0.000679   \n",
       "Westchester                6.808333                      0.003411   \n",
       "Wyoming                    6.233333                      0.001542   \n",
       "Yates                      8.757143                      0.001054   \n",
       "\n",
       "             Death_Ratio  Driving_Death_Ratio  Uninsured_Ratio  \n",
       "County                                                          \n",
       "Albany          0.009786             0.000304         0.050275  \n",
       "Allegany        0.012085             0.000529         0.060997  \n",
       "Bronx           0.010105             0.000165         0.098320  \n",
       "Broome          0.011685             0.000344         0.058646  \n",
       "Cattaraugus     0.013812             0.000583         0.074814  \n",
       "...                  ...                  ...              ...  \n",
       "Washington      0.012266             0.000695         0.065327  \n",
       "Wayne           0.011966             0.000594         0.061477  \n",
       "Westchester     0.007156             0.000202         0.069816  \n",
       "Wyoming         0.011292             0.000584         0.058840  \n",
       "Yates           0.012023             0.000600         0.077893  \n",
       "\n",
       "[62 rows x 8 columns]"
      ]
     },
     "execution_count": 3,
     "metadata": {},
     "output_type": "execute_result"
    }
   ],
   "source": [
    "# update to not include features with Zero\n",
    "df.groupby(['County']).mean(0)\n"
   ]
  },
  {
   "cell_type": "code",
   "execution_count": 4,
   "id": "57c8a5b7",
   "metadata": {},
   "outputs": [],
   "source": [
    "df = df.rename(columns = {'Unnamed: 0':'County_Number'})\n"
   ]
  },
  {
   "cell_type": "code",
   "execution_count": 5,
   "id": "c3338fd5",
   "metadata": {},
   "outputs": [
    {
     "data": {
      "text/plain": [
       "County_Number                     int64\n",
       "County                           object\n",
       "Fair_or_Poor_Health_Percent     float64\n",
       "Low_birthweight_Percent         float64\n",
       "Food_Environment_Index          float64\n",
       "Mental_Health_Provider_Ratio    float64\n",
       "Death_Ratio                     float64\n",
       "Driving_Death_Ratio             float64\n",
       "Uninsured_Ratio                 float64\n",
       "dtype: object"
      ]
     },
     "execution_count": 5,
     "metadata": {},
     "output_type": "execute_result"
    }
   ],
   "source": [
    "df.dtypes"
   ]
  },
  {
   "cell_type": "code",
   "execution_count": 6,
   "id": "723e26bc",
   "metadata": {
    "scrolled": false
   },
   "outputs": [
    {
     "data": {
      "image/png": "[encoded data removed]",
      "text/plain": [
       "<Figure size 432x288 with 1 Axes>"
      ]
     },
     "metadata": {
      "needs_background": "light"
     },
     "output_type": "display_data"
    }
   ],
   "source": [
    "plt.scatter(df.Uninsured_Ratio,df.Death_Ratio)\n",
    "plt.xlabel('Uninsured_Ratio')\n",
    "plt.ylabel('Premature Deaths')\n",
    "plt.show()"
   ]
  },
  {
   "cell_type": "code",
   "execution_count": 7,
   "id": "3d88bc51",
   "metadata": {},
   "outputs": [],
   "source": [
    "X = df.Uninsured_Ratio.values.reshape(-1, 1)"
   ]
  },
  {
   "cell_type": "code",
   "execution_count": 8,
   "id": "09c81b6d",
   "metadata": {},
   "outputs": [
    {
     "data": {
      "text/plain": [
       "array([[0.05027479],\n",
       "       [0.06099679],\n",
       "       [0.09832011],\n",
       "       [0.05864619],\n",
       "       [0.07481417]])"
      ]
     },
     "execution_count": 8,
     "metadata": {},
     "output_type": "execute_result"
    }
   ],
   "source": [
    "X[:5]"
   ]
  },
  {
   "cell_type": "code",
   "execution_count": 9,
   "id": "6d7c0ce9",
   "metadata": {},
   "outputs": [
    {
     "data": {
      "text/plain": [
       "(62, 1)"
      ]
     },
     "execution_count": 9,
     "metadata": {},
     "output_type": "execute_result"
    }
   ],
   "source": [
    "X.shape"
   ]
  },
  {
   "cell_type": "code",
   "execution_count": 10,
   "id": "b76f5a00",
   "metadata": {},
   "outputs": [],
   "source": [
    "y = df.Death_Ratio"
   ]
  },
  {
   "cell_type": "code",
   "execution_count": 11,
   "id": "ec015454",
   "metadata": {},
   "outputs": [],
   "source": [
    "model = LinearRegression()"
   ]
  },
  {
   "cell_type": "code",
   "execution_count": 12,
   "id": "5917152c",
   "metadata": {},
   "outputs": [
    {
     "data": {
      "text/plain": [
       "LinearRegression()"
      ]
     },
     "execution_count": 12,
     "metadata": {},
     "output_type": "execute_result"
    }
   ],
   "source": [
    "model.fit(X, y)"
   ]
  },
  {
   "cell_type": "code",
   "execution_count": 13,
   "id": "ae9b4938",
   "metadata": {},
   "outputs": [
    {
     "name": "stdout",
     "output_type": "stream",
     "text": [
      "(62,)\n"
     ]
    }
   ],
   "source": [
    "y_pred = model.predict(X)\n",
    "print(y_pred.shape)"
   ]
  },
  {
   "cell_type": "code",
   "execution_count": 14,
   "id": "20eee4c9",
   "metadata": {},
   "outputs": [
    {
     "data": {
      "image/png": "[encoded data removed]",
      "text/plain": [
       "<Figure size 432x288 with 1 Axes>"
      ]
     },
     "metadata": {
      "needs_background": "light"
     },
     "output_type": "display_data"
    }
   ],
   "source": [
    "plt.scatter(X, y)\n",
    "plt.plot(X, y_pred, color='red')\n",
    "plt.show()"
   ]
  },
  {
   "cell_type": "code",
   "execution_count": 15,
   "id": "3a08392b",
   "metadata": {},
   "outputs": [
    {
     "name": "stdout",
     "output_type": "stream",
     "text": [
      "[-0.0056825]\n",
      "0.011554334743361455\n"
     ]
    }
   ],
   "source": [
    "print(model.coef_)\n",
    "print(model.intercept_)"
   ]
  },
  {
   "cell_type": "code",
   "execution_count": null,
   "id": "67f43fc2",
   "metadata": {},
   "outputs": [],
   "source": []
  }
 ],
 "metadata": {
  "kernelspec": {
   "display_name": "mlenv",
   "language": "python",
   "name": "mlenv"
  },
  "language_info": {
   "codemirror_mode": {
    "name": "ipython",
    "version": 3
   },
   "file_extension": ".py",
   "mimetype": "text/x-python",
   "name": "python",
   "nbconvert_exporter": "python",
   "pygments_lexer": "ipython3",
   "version": "3.7.11"
  }
 },
 "nbformat": 4,
 "nbformat_minor": 5
}
